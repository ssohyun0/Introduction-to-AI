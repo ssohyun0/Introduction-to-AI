{
 "cells": [
  {
   "cell_type": "code",
   "execution_count": 42,
   "id": "5a73b0d3",
   "metadata": {},
   "outputs": [
    {
     "name": "stdout",
     "output_type": "stream",
     "text": [
      "     buying  maint  doors persons lug_boot safety output\n",
      "0     vhigh  vhigh      2       2    small    low  unacc\n",
      "1     vhigh  vhigh      2       2    small    med  unacc\n",
      "2     vhigh  vhigh      2       2    small   high  unacc\n",
      "3     vhigh  vhigh      2       2      med    low  unacc\n",
      "4     vhigh  vhigh      2       2      med    med  unacc\n",
      "...     ...    ...    ...     ...      ...    ...    ...\n",
      "1723    low    low  5more    more      med    med   good\n",
      "1724    low    low  5more    more      med   high  vgood\n",
      "1725    low    low  5more    more      big    low  unacc\n",
      "1726    low    low  5more    more      big    med   good\n",
      "1727    low    low  5more    more      big   high  vgood\n",
      "\n",
      "[1728 rows x 7 columns]\n",
      "\n",
      "결측치\n",
      "buying      0\n",
      "maint       0\n",
      "doors       0\n",
      "persons     0\n",
      "lug_boot    0\n",
      "safety      0\n",
      "output      0\n",
      "dtype: int64\n"
     ]
    }
   ],
   "source": [
    "import pandas as pd\n",
    "import numpy as np\n",
    "import matplotlib.pyplot as plt\n",
    "from sklearn.preprocessing import LabelEncoder\n",
    "from sklearn.model_selection import train_test_split\n",
    "from sklearn.preprocessing import StandardScaler\n",
    "from sklearn.tree import DecisionTreeClassifier, export_text\n",
    "from sklearn.linear_model import LogisticRegression\n",
    "from sklearn.svm import SVC\n",
    "from sklearn.ensemble import RandomForestClassifier\n",
    "from sklearn.neighbors import KNeighborsClassifier\n",
    "from sklearn.metrics import accuracy_score\n",
    "\n",
    "import seaborn as sns\n",
    "import matplotlib.font_manager as fm\n",
    "plt.rc('font', family='AppleGothic')\n",
    "\n",
    "# 웹에서 데이터 불러오기\n",
    "file_path = \"/Users/jangsohyun/Desktop/Introduction_to_AI/car_evaluation.csv\"\n",
    "df = pd.read_csv(file_path, header=None) # header=None => 칼럼명 없이 가져옴\n",
    "\n",
    "# 칼럼명 지정하여 추가\n",
    "df.columns = ['buying', 'maint', 'doors', 'persons', 'lug_boot', 'safety', 'output']\n",
    "print(df)\n",
    "\n",
    "# 결측치 확인\n",
    "print(\"\\n결측치\")\n",
    "print(df.isnull().sum())"
   ]
  },
  {
   "cell_type": "code",
   "execution_count": 55,
   "id": "bf46778a",
   "metadata": {},
   "outputs": [
    {
     "name": "stdout",
     "output_type": "stream",
     "text": [
      "   buying  maint  doors  persons  lug_boot  safety  output\n",
      "0       3      3      0        0         2       1       2\n",
      "1       3      3      0        0         2       2       2\n",
      "2       3      3      0        0         2       0       2\n",
      "3       3      3      0        0         1       1       2\n",
      "4       3      3      0        0         1       2       2\n"
     ]
    }
   ],
   "source": [
    "columns_to_encode = ['buying', 'maint', 'doors', 'persons', 'lug_boot', 'safety', 'output']\n",
    "\n",
    "label_encoder = LabelEncoder()\n",
    "\n",
    "for column in columns_to_encode:\n",
    "    df[column] = label_encoder.fit_transform(df[column])\n",
    "    \n",
    "# 변환된 데이터 확인\n",
    "print(df.head())"
   ]
  },
  {
   "cell_type": "code",
   "execution_count": 47,
   "id": "1152befa",
   "metadata": {},
   "outputs": [
    {
     "data": {
      "text/plain": [
       "output\n",
       "2    1210\n",
       "0     384\n",
       "1      69\n",
       "3      65\n",
       "Name: count, dtype: int64"
      ]
     },
     "execution_count": 47,
     "metadata": {},
     "output_type": "execute_result"
    }
   ],
   "source": [
    "df['output'].value_counts()"
   ]
  },
  {
   "cell_type": "code",
   "execution_count": 56,
   "id": "adbc9c1f",
   "metadata": {},
   "outputs": [
    {
     "data": {
      "text/plain": [
       "((1382, 6), (346, 6), (1382,), (346,))"
      ]
     },
     "execution_count": 56,
     "metadata": {},
     "output_type": "execute_result"
    }
   ],
   "source": [
    "# 특성과 레이블 분리\n",
    "X = df.iloc[:, :-1].values  # 마지막 열 제외\n",
    "y = df.iloc[:, -1].values   # 마지막 열 (클래스)\n",
    "\n",
    "# 데이터 분할 (훈련: 80%, 테스트: 20%)\n",
    "X_train, X_test, y_train, y_test = train_test_split(X, y, test_size=0.2, random_state=42)\n",
    "\n",
    "# 데이터 정규화\n",
    "scaler = StandardScaler()\n",
    "X = scaler.fit_transform(X)\n",
    "\n",
    "X_train.shape, X_test.shape, y_train.shape, y_test.shape"
   ]
  },
  {
   "cell_type": "code",
   "execution_count": 49,
   "id": "02b8b368",
   "metadata": {},
   "outputs": [
    {
     "name": "stdout",
     "output_type": "stream",
     "text": [
      "Decision Tree Accuracy: 0.9740\n"
     ]
    }
   ],
   "source": [
    "# 의사결정나무(DT) 학습 및 평가\n",
    "dt_model = DecisionTreeClassifier(random_state=42)\n",
    "dt_model.fit(X_train, y_train)\n",
    "y_pred_dt = dt_model.predict(X_test)\n",
    "dt_accuracy = accuracy_score(y_test, y_pred_dt)\n",
    "print(f\"Decision Tree Accuracy: {dt_accuracy:.4f}\")"
   ]
  },
  {
   "cell_type": "code",
   "execution_count": 50,
   "id": "62aff7fb",
   "metadata": {},
   "outputs": [
    {
     "name": "stdout",
     "output_type": "stream",
     "text": [
      "Random Forest Accuracy: 0.9798\n"
     ]
    }
   ],
   "source": [
    "# 랜덤 포레스트(RF) 학습 및 평가\n",
    "rf_model = RandomForestClassifier(n_estimators=100, random_state=42)\n",
    "rf_model.fit(X_train, y_train)\n",
    "y_pred_rf = rf_model.predict(X_test)\n",
    "rf_accuracy = accuracy_score(y_test, y_pred_rf)\n",
    "print(f\"Random Forest Accuracy: {rf_accuracy:.4f}\")"
   ]
  },
  {
   "cell_type": "code",
   "execution_count": 51,
   "id": "a9662d0b",
   "metadata": {},
   "outputs": [
    {
     "name": "stdout",
     "output_type": "stream",
     "text": [
      "SVM Accuracy: 0.9017\n"
     ]
    }
   ],
   "source": [
    "# 서포트 벡터 머신(SVM) 학습 및 평가\n",
    "svm_model = SVC()\n",
    "svm_model.fit(X_train, y_train)\n",
    "y_pred_svm = svm_model.predict(X_test)\n",
    "svm_accuracy = accuracy_score(y_test, y_pred_svm)\n",
    "print(f\"SVM Accuracy: {svm_accuracy:.4f}\")"
   ]
  },
  {
   "cell_type": "code",
   "execution_count": 52,
   "id": "3c1adfbf",
   "metadata": {},
   "outputs": [
    {
     "name": "stdout",
     "output_type": "stream",
     "text": [
      "Logistic Regression Accuracy: 0.6590\n"
     ]
    }
   ],
   "source": [
    "# 로지스틱 회귀(LR) 학습 및 평가\n",
    "lr_model = LogisticRegression(max_iter=200)\n",
    "lr_model.fit(X_train, y_train)\n",
    "y_pred_lr = lr_model.predict(X_test)\n",
    "lr_accuracy = accuracy_score(y_test, y_pred_lr)\n",
    "print(f\"Logistic Regression Accuracy: {lr_accuracy:.4f}\")"
   ]
  },
  {
   "cell_type": "code",
   "execution_count": 28,
   "id": "ba0ac954",
   "metadata": {},
   "outputs": [
    {
     "name": "stdout",
     "output_type": "stream",
     "text": [
      "KNN (K=5) Accuracy: 0.9133\n"
     ]
    }
   ],
   "source": [
    "# KNN(K=5) 학습 및 평가\n",
    "knn_model = KNeighborsClassifier(n_neighbors=5)\n",
    "knn_model.fit(X_train, y_train)\n",
    "y_pred_knn = knn_model.predict(X_test)\n",
    "accuracy_knn = accuracy_score(y_test, y_pred_knn)\n",
    "print(f\"KNN (K=5) Accuracy: {accuracy_knn:.4f}\")"
   ]
  }
 ],
 "metadata": {
  "kernelspec": {
   "display_name": "Python 3 (ipykernel)",
   "language": "python",
   "name": "python3"
  },
  "language_info": {
   "codemirror_mode": {
    "name": "ipython",
    "version": 3
   },
   "file_extension": ".py",
   "mimetype": "text/x-python",
   "name": "python",
   "nbconvert_exporter": "python",
   "pygments_lexer": "ipython3",
   "version": "3.11.5"
  }
 },
 "nbformat": 4,
 "nbformat_minor": 5
}
